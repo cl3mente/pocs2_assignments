{
 "cells": [
  {
   "cell_type": "code",
   "execution_count": 5,
   "metadata": {},
   "outputs": [],
   "source": [
    "import time\n",
    "import numpy"
   ]
  },
  {
   "cell_type": "code",
   "execution_count": 6,
   "metadata": {},
   "outputs": [],
   "source": [
    "def selection_sort(lst):\n",
    "    for value in range(len(lst) - 1):\n",
    "        tmp = lst[value]\n",
    "        pos = value\n",
    "        for counter in range(value+1, len(lst)):\n",
    "            if lst[counter] < tmp:\n",
    "                tmp = lst[counter]\n",
    "                pos = counter\n",
    "\n",
    "        old = lst[value]\n",
    "        lst[value] = tmp\n",
    "        lst[pos] = old\n",
    "        \n",
    "    return lst"
   ]
  },
  {
   "cell_type": "code",
   "execution_count": 7,
   "metadata": {},
   "outputs": [],
   "source": [
    "def bubble_sort(lst):\n",
    "    for j in range(0, len(lst) - 1):\n",
    "        counter = 0\n",
    "        for i in range(0, len(lst) - 1):\n",
    "            if (lst[i] > lst[i+1]):\n",
    "                counter += 1\n",
    "                tmp = lst[i]\n",
    "                lst[i] = lst[i+1]\n",
    "                lst[i+1] = tmp\n",
    "        \n",
    "        if counter == 0:\n",
    "            break\n",
    "                \n",
    "    return lst"
   ]
  },
  {
   "cell_type": "code",
   "execution_count": 8,
   "metadata": {},
   "outputs": [],
   "source": [
    "def merge(my_left, my_right):\n",
    "    result = []\n",
    "    pos_left = 0\n",
    "    pos_right = 0\n",
    "    \n",
    "    while pos_left < len(my_left) and pos_right < len(my_right):\n",
    "        if my_left[pos_left] < my_right[pos_right]:\n",
    "            result.append(my_left[pos_left])\n",
    "            pos_left += 1\n",
    "        else:\n",
    "            result.append(my_right[pos_right])\n",
    "            pos_right += 1\n",
    "            \n",
    "    while pos_left < len(my_left):\n",
    "        result.append(my_left[pos_left])\n",
    "        pos_left += 1\n",
    "    \n",
    "    while pos_right < len(my_right):\n",
    "        result.append(my_right[pos_right])\n",
    "        pos_right += 1\n",
    "        \n",
    "    return result\n",
    "\n",
    "def merge_sort(lst):\n",
    "    if len(lst) == 1:\n",
    "        return lst\n",
    "    \n",
    "    left = lst[0:len(lst)//2]\n",
    "    right = lst[len(lst)//2:]\n",
    "    \n",
    "    left = merge_sort(left)\n",
    "    right = merge_sort(right)\n",
    "    \n",
    "    return merge(left, right)\n"
   ]
  },
  {
   "cell_type": "code",
   "execution_count": 9,
   "metadata": {},
   "outputs": [],
   "source": [
    "def insertion_sort(lst):\n",
    "    for i in range(1, len(lst)):\n",
    "        for j in range(0, i):\n",
    "            if (lst[i] < lst[j]):\n",
    "                item = lst.pop(i)\n",
    "                lst.insert(j, item)\n",
    "                \n",
    "    return lst"
   ]
  },
  {
   "cell_type": "code",
   "execution_count": 12,
   "metadata": {},
   "outputs": [
    {
     "name": "stdout",
     "output_type": "stream",
     "text": [
      "1000 0.029867400007788092 0.023842700000386685 6.799999391660094e-05 0.0019107999978587031\n",
      "2000 0.11384349997388199 0.11667979997582734 0.00013429997488856316 0.005819500016514212\n",
      "3000 0.2173651999910362 0.19887379999272525 0.0001803000341169536 0.005687299999408424\n",
      "4000 0.3772270999616012 0.3067690000170842 0.00021740002557635307 0.0103815000038594\n",
      "5000 0.5801465999684297 0.43653080001240596 0.0002663999912329018 0.011168700002599508\n",
      "6000 0.7845767000108026 0.6216328999726102 0.0003386000171303749 0.01160689996322617\n",
      "7000 1.1122857999871485 1.0035859000054188 0.0005703999777324498 0.014233199995942414\n",
      "8000 1.4657162999501452 1.1072999000316486 0.0004987000138498843 0.01637450000271201\n",
      "9000 1.8119791999924928 1.5332946000271477 0.0005201000021770597 0.017550599994137883\n",
      "10000 2.2817735000280663 1.9029363000299782 0.0006611000280827284 0.04116899997461587\n",
      "11000 2.7581902000238188 2.1204343999852426 0.0006695999763906002 0.02277510002022609\n",
      "12000 3.3863050000509247 2.674937600037083 0.0007691000355407596 0.02615599997807294\n",
      "13000 3.863797199970577 3.121351899986621 0.000846099981572479 0.02753259998280555\n",
      "14000 4.540091199974995 3.463282699987758 0.000824799994006753 0.029080000007525086\n",
      "15000 5.176422199991066 4.048555499990471 0.0010214000358246267 0.032189899997320026\n",
      "16000 5.89499210001668 4.547298000019509 0.0010086999973282218 0.03360899997642264\n",
      "17000 6.776215500023682 5.277430200017989 0.0010326000046916306 0.03988340002251789\n",
      "18000 7.4979467000230215 5.835394499998074 0.00104750000173226 0.040453099994920194\n",
      "19000 8.776274000003468 6.614281199988909 0.0011258000158704817 0.044589500001166016\n"
     ]
    }
   ],
   "source": [
    "size = []\n",
    "ins = []\n",
    "sel = []\n",
    "bub = []\n",
    "mer = []\n",
    "\n",
    "for step in range(1, 20):\n",
    "    lst_size = 1000 * step \n",
    "    size.append(lst_size)\n",
    "\n",
    "    this_list = list(numpy.random.randint(0, lst_size, lst_size))\n",
    "    \n",
    "    t1 = time.perf_counter()\n",
    "    insertion_sort(this_list)\n",
    "    t_ins = time.perf_counter() - t1\n",
    "    ins.append(t_ins)\n",
    "\n",
    "    t1 = time.perf_counter()\n",
    "    selection_sort(this_list)\n",
    "    t_sel = time.perf_counter() - t1\n",
    "    sel.append(t_sel)\n",
    "\n",
    "    t1 = time.perf_counter()\n",
    "    bubble_sort(this_list)\n",
    "    t_bub = time.perf_counter() - t1\n",
    "    bub.append(t_bub)\n",
    "\n",
    "    t1 = time.perf_counter()\n",
    "    merge_sort(this_list)\n",
    "    t_mer = time.perf_counter() - t1\n",
    "    mer.append(t_mer)\n",
    "    \n",
    "    print(lst_size, t_ins, t_sel, t_bub, t_mer)\n",
    "\n",
    "\n",
    "\n",
    "\n",
    "\n",
    "\n",
    "\n"
   ]
  },
  {
   "cell_type": "code",
   "execution_count": 13,
   "metadata": {},
   "outputs": [
    {
     "data": {
      "image/png": "[encoded data removed]",
      "text/plain": [
       "<Figure size 640x480 with 1 Axes>"
      ]
     },
     "metadata": {},
     "output_type": "display_data"
    }
   ],
   "source": [
    "import matplotlib.pyplot as plt\n",
    "\n",
    "plt.plot(size, ins, label = 'insertion')\n",
    "plt.plot(size, sel, label = 'selection')\n",
    "plt.plot(size, bub, label = 'bubble')\n",
    "plt.legend()\n",
    "plt.show()"
   ]
  },
  {
   "cell_type": "code",
   "execution_count": 14,
   "metadata": {},
   "outputs": [],
   "source": [
    "def closestNumbers(arr):\n",
    "    # Write your code here\n",
    "    \n",
    "    arr.sort()\n",
    "    min_distance = abs(arr[0]-arr[1])\n",
    "    pairs = []\n",
    "    \n",
    "    for i in range(len(arr)-1):\n",
    "        distance = abs(arr[i] - arr[i+1])\n",
    "        \n",
    "        if distance < min_distance:\n",
    "            pairs = [arr[i], arr[i+1]]\n",
    "            min_distance = distance\n",
    "            \n",
    "        elif distance == min_distance:\n",
    "            pairs.append([arr[i], arr[i+1]])\n",
    "            \n",
    "    return pairs"
   ]
  },
  {
   "cell_type": "code",
   "execution_count": 15,
   "metadata": {},
   "outputs": [
    {
     "data": {
      "text/plain": [
       "[[2, 3], [3, 4], [4, 5]]"
      ]
     },
     "execution_count": 15,
     "metadata": {},
     "output_type": "execute_result"
    }
   ],
   "source": [
    "closestNumbers([5, 4, 3, 2])"
   ]
  },
  {
   "cell_type": "code",
   "execution_count": null,
   "metadata": {},
   "outputs": [],
   "source": [
   ]
  }
 ],
 "metadata": {
  "kernelspec": {
   "display_name": "Python 3.10.2 64-bit",
   "language": "python",
   "name": "python3"
  },
  "language_info": {
   "codemirror_mode": {
    "name": "ipython",
    "version": 3
   },
   "file_extension": ".py",
   "mimetype": "text/x-python",
   "name": "python",
   "nbconvert_exporter": "python",
   "pygments_lexer": "ipython3",
   "version": "3.10.2"
  },
  "orig_nbformat": 4,
  "vscode": {
   "interpreter": {
    "hash": "adda2800185721ec47e9eff172a36b2c7e7a54ac4dc40284f6d98bb37488e742"
   }
  }
 },
 "nbformat": 4,
 "nbformat_minor": 2
}
